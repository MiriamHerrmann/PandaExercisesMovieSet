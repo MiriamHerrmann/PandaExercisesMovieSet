{
 "cells": [
  {
   "cell_type": "code",
   "execution_count": 5,
   "metadata": {},
   "outputs": [
    {
     "data": {
      "text/html": [
       "<div>\n",
       "<style scoped>\n",
       "    .dataframe tbody tr th:only-of-type {\n",
       "        vertical-align: middle;\n",
       "    }\n",
       "\n",
       "    .dataframe tbody tr th {\n",
       "        vertical-align: top;\n",
       "    }\n",
       "\n",
       "    .dataframe thead th {\n",
       "        text-align: right;\n",
       "    }\n",
       "</style>\n",
       "<table border=\"1\" class=\"dataframe\">\n",
       "  <thead>\n",
       "    <tr style=\"text-align: right;\">\n",
       "      <th></th>\n",
       "      <th>MovieID</th>\n",
       "      <th>Title</th>\n",
       "      <th>MPAA Rating</th>\n",
       "      <th>Budget</th>\n",
       "      <th>Gross</th>\n",
       "      <th>Release Date</th>\n",
       "      <th>Genre</th>\n",
       "      <th>Runtime</th>\n",
       "      <th>Rating</th>\n",
       "      <th>Rating Count</th>\n",
       "      <th>Summary</th>\n",
       "    </tr>\n",
       "  </thead>\n",
       "  <tbody>\n",
       "    <tr>\n",
       "      <th>0</th>\n",
       "      <td>1</td>\n",
       "      <td>Look Who's Talking</td>\n",
       "      <td>PG-13</td>\n",
       "      <td>7500000.0</td>\n",
       "      <td>296000000.0</td>\n",
       "      <td>1989-10-12</td>\n",
       "      <td>Romance</td>\n",
       "      <td>93.0</td>\n",
       "      <td>5.9</td>\n",
       "      <td>73638.0</td>\n",
       "      <td>After a single, career-minded woman is left on...</td>\n",
       "    </tr>\n",
       "    <tr>\n",
       "      <th>1</th>\n",
       "      <td>2</td>\n",
       "      <td>Driving Miss Daisy</td>\n",
       "      <td>PG</td>\n",
       "      <td>7500000.0</td>\n",
       "      <td>145793296.0</td>\n",
       "      <td>1989-12-13</td>\n",
       "      <td>Comedy</td>\n",
       "      <td>99.0</td>\n",
       "      <td>7.4</td>\n",
       "      <td>91075.0</td>\n",
       "      <td>An old Jewish woman and her African-American c...</td>\n",
       "    </tr>\n",
       "    <tr>\n",
       "      <th>2</th>\n",
       "      <td>3</td>\n",
       "      <td>Turner &amp; Hooch</td>\n",
       "      <td>PG</td>\n",
       "      <td>13000000.0</td>\n",
       "      <td>71079915.0</td>\n",
       "      <td>1989-07-28</td>\n",
       "      <td>Crime</td>\n",
       "      <td>100.0</td>\n",
       "      <td>7.2</td>\n",
       "      <td>91415.0</td>\n",
       "      <td>Det. Scott Turner (Tom Hanks) is an uptight, b...</td>\n",
       "    </tr>\n",
       "    <tr>\n",
       "      <th>3</th>\n",
       "      <td>4</td>\n",
       "      <td>Born on the Fourth of July</td>\n",
       "      <td>R</td>\n",
       "      <td>14000000.0</td>\n",
       "      <td>161001698.0</td>\n",
       "      <td>1989-12-20</td>\n",
       "      <td>War</td>\n",
       "      <td>145.0</td>\n",
       "      <td>7.2</td>\n",
       "      <td>91415.0</td>\n",
       "      <td>The biography of Ron Kovic. Paralyzed in the V...</td>\n",
       "    </tr>\n",
       "    <tr>\n",
       "      <th>4</th>\n",
       "      <td>5</td>\n",
       "      <td>Field of Dreams</td>\n",
       "      <td>PG</td>\n",
       "      <td>15000000.0</td>\n",
       "      <td>84431625.0</td>\n",
       "      <td>1989-04-21</td>\n",
       "      <td>Drama</td>\n",
       "      <td>107.0</td>\n",
       "      <td>7.5</td>\n",
       "      <td>101702.0</td>\n",
       "      <td>An Iowa corn farmer, hearing voices, interpret...</td>\n",
       "    </tr>\n",
       "  </tbody>\n",
       "</table>\n",
       "</div>"
      ],
      "text/plain": [
       "   MovieID                       Title MPAA Rating      Budget        Gross  \\\n",
       "0        1          Look Who's Talking       PG-13   7500000.0  296000000.0   \n",
       "1        2          Driving Miss Daisy          PG   7500000.0  145793296.0   \n",
       "2        3              Turner & Hooch          PG  13000000.0   71079915.0   \n",
       "3        4  Born on the Fourth of July           R  14000000.0  161001698.0   \n",
       "4        5             Field of Dreams          PG  15000000.0   84431625.0   \n",
       "\n",
       "  Release Date    Genre  Runtime  Rating  Rating Count  \\\n",
       "0   1989-10-12  Romance     93.0     5.9       73638.0   \n",
       "1   1989-12-13   Comedy     99.0     7.4       91075.0   \n",
       "2   1989-07-28    Crime    100.0     7.2       91415.0   \n",
       "3   1989-12-20      War    145.0     7.2       91415.0   \n",
       "4   1989-04-21    Drama    107.0     7.5      101702.0   \n",
       "\n",
       "                                             Summary  \n",
       "0  After a single, career-minded woman is left on...  \n",
       "1  An old Jewish woman and her African-American c...  \n",
       "2  Det. Scott Turner (Tom Hanks) is an uptight, b...  \n",
       "3  The biography of Ron Kovic. Paralyzed in the V...  \n",
       "4  An Iowa corn farmer, hearing voices, interpret...  "
      ]
     },
     "execution_count": 5,
     "metadata": {},
     "output_type": "execute_result"
    }
   ],
   "source": [
    "import numpy as np\n",
    "import pandas as pd \n",
    "df=pd.read_csv(\"movies_2.csv\")\n",
    "df.head(5)"
   ]
  },
  {
   "cell_type": "code",
   "execution_count": 6,
   "metadata": {},
   "outputs": [
    {
     "data": {
      "text/html": [
       "<div>\n",
       "<style scoped>\n",
       "    .dataframe tbody tr th:only-of-type {\n",
       "        vertical-align: middle;\n",
       "    }\n",
       "\n",
       "    .dataframe tbody tr th {\n",
       "        vertical-align: top;\n",
       "    }\n",
       "\n",
       "    .dataframe thead th {\n",
       "        text-align: right;\n",
       "    }\n",
       "</style>\n",
       "<table border=\"1\" class=\"dataframe\">\n",
       "  <thead>\n",
       "    <tr style=\"text-align: right;\">\n",
       "      <th></th>\n",
       "      <th>MovieID</th>\n",
       "      <th>Title</th>\n",
       "      <th>MPAA Rating</th>\n",
       "      <th>Budget</th>\n",
       "      <th>Gross</th>\n",
       "      <th>Release Date</th>\n",
       "      <th>Genre</th>\n",
       "      <th>Runtime</th>\n",
       "      <th>Rating</th>\n",
       "      <th>Rating Count</th>\n",
       "      <th>Summary</th>\n",
       "    </tr>\n",
       "  </thead>\n",
       "  <tbody>\n",
       "    <tr>\n",
       "      <th>0</th>\n",
       "      <td>1</td>\n",
       "      <td>Look Who's Talking</td>\n",
       "      <td>PG-13</td>\n",
       "      <td>7500000.0</td>\n",
       "      <td>296000000.0</td>\n",
       "      <td>1989-10-12</td>\n",
       "      <td>Romance</td>\n",
       "      <td>93.0</td>\n",
       "      <td>5.9</td>\n",
       "      <td>73638.0</td>\n",
       "      <td>After a single, career-minded woman is left on...</td>\n",
       "    </tr>\n",
       "    <tr>\n",
       "      <th>1</th>\n",
       "      <td>2</td>\n",
       "      <td>Driving Miss Daisy</td>\n",
       "      <td>PG</td>\n",
       "      <td>7500000.0</td>\n",
       "      <td>145793296.0</td>\n",
       "      <td>1989-12-13</td>\n",
       "      <td>Comedy</td>\n",
       "      <td>99.0</td>\n",
       "      <td>7.4</td>\n",
       "      <td>91075.0</td>\n",
       "      <td>An old Jewish woman and her African-American c...</td>\n",
       "    </tr>\n",
       "    <tr>\n",
       "      <th>2</th>\n",
       "      <td>3</td>\n",
       "      <td>Turner &amp; Hooch</td>\n",
       "      <td>PG</td>\n",
       "      <td>13000000.0</td>\n",
       "      <td>71079915.0</td>\n",
       "      <td>1989-07-28</td>\n",
       "      <td>Crime</td>\n",
       "      <td>100.0</td>\n",
       "      <td>7.2</td>\n",
       "      <td>91415.0</td>\n",
       "      <td>Det. Scott Turner (Tom Hanks) is an uptight, b...</td>\n",
       "    </tr>\n",
       "    <tr>\n",
       "      <th>3</th>\n",
       "      <td>4</td>\n",
       "      <td>Born on the Fourth of July</td>\n",
       "      <td>R</td>\n",
       "      <td>14000000.0</td>\n",
       "      <td>161001698.0</td>\n",
       "      <td>1989-12-20</td>\n",
       "      <td>War</td>\n",
       "      <td>145.0</td>\n",
       "      <td>7.2</td>\n",
       "      <td>91415.0</td>\n",
       "      <td>The biography of Ron Kovic. Paralyzed in the V...</td>\n",
       "    </tr>\n",
       "    <tr>\n",
       "      <th>4</th>\n",
       "      <td>5</td>\n",
       "      <td>Field of Dreams</td>\n",
       "      <td>PG</td>\n",
       "      <td>15000000.0</td>\n",
       "      <td>84431625.0</td>\n",
       "      <td>1989-04-21</td>\n",
       "      <td>Drama</td>\n",
       "      <td>107.0</td>\n",
       "      <td>7.5</td>\n",
       "      <td>101702.0</td>\n",
       "      <td>An Iowa corn farmer, hearing voices, interpret...</td>\n",
       "    </tr>\n",
       "  </tbody>\n",
       "</table>\n",
       "</div>"
      ],
      "text/plain": [
       "   MovieID                       Title MPAA Rating      Budget        Gross  \\\n",
       "0        1          Look Who's Talking       PG-13   7500000.0  296000000.0   \n",
       "1        2          Driving Miss Daisy          PG   7500000.0  145793296.0   \n",
       "2        3              Turner & Hooch          PG  13000000.0   71079915.0   \n",
       "3        4  Born on the Fourth of July           R  14000000.0  161001698.0   \n",
       "4        5             Field of Dreams          PG  15000000.0   84431625.0   \n",
       "\n",
       "  Release Date    Genre  Runtime  Rating  Rating Count  \\\n",
       "0   1989-10-12  Romance     93.0     5.9       73638.0   \n",
       "1   1989-12-13   Comedy     99.0     7.4       91075.0   \n",
       "2   1989-07-28    Crime    100.0     7.2       91415.0   \n",
       "3   1989-12-20      War    145.0     7.2       91415.0   \n",
       "4   1989-04-21    Drama    107.0     7.5      101702.0   \n",
       "\n",
       "                                             Summary  \n",
       "0  After a single, career-minded woman is left on...  \n",
       "1  An old Jewish woman and her African-American c...  \n",
       "2  Det. Scott Turner (Tom Hanks) is an uptight, b...  \n",
       "3  The biography of Ron Kovic. Paralyzed in the V...  \n",
       "4  An Iowa corn farmer, hearing voices, interpret...  "
      ]
     },
     "execution_count": 6,
     "metadata": {},
     "output_type": "execute_result"
    }
   ],
   "source": [
    "df_copy = df.copy()\n",
    "df_copy.head()"
   ]
  },
  {
   "cell_type": "code",
   "execution_count": 7,
   "metadata": {},
   "outputs": [
    {
     "name": "stdout",
     "output_type": "stream",
     "text": [
      "<class 'pandas.core.frame.DataFrame'>\n",
      "RangeIndex: 616 entries, 0 to 615\n",
      "Data columns (total 11 columns):\n",
      " #   Column        Non-Null Count  Dtype  \n",
      "---  ------        --------------  -----  \n",
      " 0   MovieID       616 non-null    int64  \n",
      " 1   Title         615 non-null    object \n",
      " 2   MPAA Rating   615 non-null    object \n",
      " 3   Budget        615 non-null    float64\n",
      " 4   Gross         615 non-null    float64\n",
      " 5   Release Date  615 non-null    object \n",
      " 6   Genre         615 non-null    object \n",
      " 7   Runtime       615 non-null    float64\n",
      " 8   Rating        508 non-null    float64\n",
      " 9   Rating Count  508 non-null    float64\n",
      " 10  Summary       496 non-null    object \n",
      "dtypes: float64(5), int64(1), object(5)\n",
      "memory usage: 53.1+ KB\n"
     ]
    }
   ],
   "source": [
    "df_copy.info()"
   ]
  },
  {
   "cell_type": "code",
   "execution_count": 8,
   "metadata": {},
   "outputs": [
    {
     "name": "stdout",
     "output_type": "stream",
     "text": [
      "(616, 11)\n"
     ]
    }
   ],
   "source": [
    "print(df_copy.shape)\n",
    "#rows, columns "
   ]
  },
  {
   "cell_type": "code",
   "execution_count": 9,
   "metadata": {},
   "outputs": [
    {
     "data": {
      "text/plain": [
       "616"
      ]
     },
     "metadata": {},
     "output_type": "display_data"
    },
    {
     "data": {
      "text/plain": [
       "11"
      ]
     },
     "metadata": {},
     "output_type": "display_data"
    }
   ],
   "source": [
    "row, col = df_copy.shape\n",
    "display(row)\n",
    "display(col)"
   ]
  },
  {
   "cell_type": "code",
   "execution_count": 10,
   "metadata": {},
   "outputs": [
    {
     "data": {
      "text/plain": [
       "<bound method NDFrame.describe of      MovieID                                  Title MPAA Rating       Budget  \\\n",
       "0          1                     Look Who's Talking       PG-13    7500000.0   \n",
       "1          2                     Driving Miss Daisy          PG    7500000.0   \n",
       "2          3                         Turner & Hooch          PG   13000000.0   \n",
       "3          4             Born on the Fourth of July           R   14000000.0   \n",
       "4          5                        Field of Dreams          PG   15000000.0   \n",
       "..       ...                                    ...         ...          ...   \n",
       "611      612                            Toy Story 4           G  200000000.0   \n",
       "612      613  Fast & Furious Presents: Hobbs & Shaw       PG-13  200000000.0   \n",
       "613      614                          The Lion King          PG  250000000.0   \n",
       "614      615                      Avengers: Endgame       PG-13  356000000.0   \n",
       "615        0                                    NaN         NaN          NaN   \n",
       "\n",
       "            Gross Release Date      Genre  Runtime  Rating  Rating Count  \\\n",
       "0    2.960000e+08   1989-10-12    Romance     93.0     5.9       73638.0   \n",
       "1    1.457933e+08   1989-12-13     Comedy     99.0     7.4       91075.0   \n",
       "2    7.107992e+07   1989-07-28      Crime    100.0     7.2       91415.0   \n",
       "3    1.610017e+08   1989-12-20        War    145.0     7.2       91415.0   \n",
       "4    8.443162e+07   1989-04-21      Drama    107.0     7.5      101702.0   \n",
       "..            ...          ...        ...      ...     ...           ...   \n",
       "611  1.062000e+09   2019-06-11  Animation    100.0     NaN           NaN   \n",
       "612  7.594000e+08   2019-07-13   Thriller    136.0     NaN           NaN   \n",
       "613  1.632000e+09   2019-07-09      Drama    118.0     NaN           NaN   \n",
       "614  2.796000e+09   2019-04-22     Action    181.0     NaN           NaN   \n",
       "615           NaN          NaN        NaN      NaN     NaN           NaN   \n",
       "\n",
       "                                               Summary  \n",
       "0    After a single, career-minded woman is left on...  \n",
       "1    An old Jewish woman and her African-American c...  \n",
       "2    Det. Scott Turner (Tom Hanks) is an uptight, b...  \n",
       "3    The biography of Ron Kovic. Paralyzed in the V...  \n",
       "4    An Iowa corn farmer, hearing voices, interpret...  \n",
       "..                                                 ...  \n",
       "611                                                NaN  \n",
       "612                                                NaN  \n",
       "613                                                NaN  \n",
       "614                                                NaN  \n",
       "615                                                NaN  \n",
       "\n",
       "[616 rows x 11 columns]>"
      ]
     },
     "execution_count": 10,
     "metadata": {},
     "output_type": "execute_result"
    }
   ],
   "source": [
    "df_copy.describe"
   ]
  },
  {
   "cell_type": "code",
   "execution_count": 11,
   "metadata": {},
   "outputs": [
    {
     "name": "stdout",
     "output_type": "stream",
     "text": [
      "<class 'pandas.core.frame.DataFrame'>\n",
      "RangeIndex: 616 entries, 0 to 615\n",
      "Data columns (total 11 columns):\n",
      " #   Column        Non-Null Count  Dtype  \n",
      "---  ------        --------------  -----  \n",
      " 0   MovieID       616 non-null    int64  \n",
      " 1   Title         615 non-null    object \n",
      " 2   MPAA Rating   615 non-null    object \n",
      " 3   Budget        615 non-null    float64\n",
      " 4   Gross         615 non-null    float64\n",
      " 5   Release Date  615 non-null    object \n",
      " 6   Genre         615 non-null    object \n",
      " 7   Runtime       615 non-null    float64\n",
      " 8   Rating        508 non-null    float64\n",
      " 9   Rating Count  508 non-null    float64\n",
      " 10  Summary       496 non-null    object \n",
      "dtypes: float64(5), int64(1), object(5)\n",
      "memory usage: 53.1+ KB\n"
     ]
    }
   ],
   "source": [
    "#prints information on all columns\n",
    "df_copy.info(verbose=True)"
   ]
  },
  {
   "cell_type": "code",
   "execution_count": 12,
   "metadata": {},
   "outputs": [
    {
     "name": "stdout",
     "output_type": "stream",
     "text": [
      "<class 'pandas.core.frame.DataFrame'>\n",
      "RangeIndex: 616 entries, 0 to 615\n",
      "Columns: 11 entries, MovieID to Summary\n",
      "dtypes: float64(5), int64(1), object(5)\n",
      "memory usage: 53.1+ KB\n"
     ]
    }
   ],
   "source": [
    "#Prints a summary of columns count and its dtypes but not per column information:\n",
    "df_copy.info(verbose=False)"
   ]
  },
  {
   "cell_type": "code",
   "execution_count": 13,
   "metadata": {},
   "outputs": [
    {
     "data": {
      "text/plain": [
       "MovieID           int64\n",
       "Title            object\n",
       "MPAA Rating      object\n",
       "Budget          float64\n",
       "Gross           float64\n",
       "Release Date     object\n",
       "Genre            object\n",
       "Runtime         float64\n",
       "Rating          float64\n",
       "Rating Count    float64\n",
       "Summary          object\n",
       "dtype: object"
      ]
     },
     "execution_count": 13,
     "metadata": {},
     "output_type": "execute_result"
    }
   ],
   "source": [
    "df_copy.dtypes"
   ]
  },
  {
   "cell_type": "code",
   "execution_count": 14,
   "metadata": {},
   "outputs": [
    {
     "data": {
      "text/plain": [
       "<bound method DataFrame.isna of      MovieID                                  Title MPAA Rating       Budget  \\\n",
       "0          1                     Look Who's Talking       PG-13    7500000.0   \n",
       "1          2                     Driving Miss Daisy          PG    7500000.0   \n",
       "2          3                         Turner & Hooch          PG   13000000.0   \n",
       "3          4             Born on the Fourth of July           R   14000000.0   \n",
       "4          5                        Field of Dreams          PG   15000000.0   \n",
       "..       ...                                    ...         ...          ...   \n",
       "611      612                            Toy Story 4           G  200000000.0   \n",
       "612      613  Fast & Furious Presents: Hobbs & Shaw       PG-13  200000000.0   \n",
       "613      614                          The Lion King          PG  250000000.0   \n",
       "614      615                      Avengers: Endgame       PG-13  356000000.0   \n",
       "615        0                                    NaN         NaN          NaN   \n",
       "\n",
       "            Gross Release Date      Genre  Runtime  Rating  Rating Count  \\\n",
       "0    2.960000e+08   1989-10-12    Romance     93.0     5.9       73638.0   \n",
       "1    1.457933e+08   1989-12-13     Comedy     99.0     7.4       91075.0   \n",
       "2    7.107992e+07   1989-07-28      Crime    100.0     7.2       91415.0   \n",
       "3    1.610017e+08   1989-12-20        War    145.0     7.2       91415.0   \n",
       "4    8.443162e+07   1989-04-21      Drama    107.0     7.5      101702.0   \n",
       "..            ...          ...        ...      ...     ...           ...   \n",
       "611  1.062000e+09   2019-06-11  Animation    100.0     NaN           NaN   \n",
       "612  7.594000e+08   2019-07-13   Thriller    136.0     NaN           NaN   \n",
       "613  1.632000e+09   2019-07-09      Drama    118.0     NaN           NaN   \n",
       "614  2.796000e+09   2019-04-22     Action    181.0     NaN           NaN   \n",
       "615           NaN          NaN        NaN      NaN     NaN           NaN   \n",
       "\n",
       "                                               Summary  \n",
       "0    After a single, career-minded woman is left on...  \n",
       "1    An old Jewish woman and her African-American c...  \n",
       "2    Det. Scott Turner (Tom Hanks) is an uptight, b...  \n",
       "3    The biography of Ron Kovic. Paralyzed in the V...  \n",
       "4    An Iowa corn farmer, hearing voices, interpret...  \n",
       "..                                                 ...  \n",
       "611                                                NaN  \n",
       "612                                                NaN  \n",
       "613                                                NaN  \n",
       "614                                                NaN  \n",
       "615                                                NaN  \n",
       "\n",
       "[616 rows x 11 columns]>"
      ]
     },
     "execution_count": 14,
     "metadata": {},
     "output_type": "execute_result"
    }
   ],
   "source": [
    "#detect missing values \n",
    "df_copy.isna"
   ]
  },
  {
   "cell_type": "code",
   "execution_count": null,
   "metadata": {},
   "outputs": [],
   "source": [
    " #drop NaNs "
   ]
  },
  {
   "cell_type": "code",
   "execution_count": null,
   "metadata": {},
   "outputs": [],
   "source": [
    "movies = df_copy.drop(\"Summary\", axis=\"columns\")"
   ]
  },
  {
   "cell_type": "code",
   "execution_count": null,
   "metadata": {},
   "outputs": [],
   "source": []
  },
  {
   "cell_type": "code",
   "execution_count": null,
   "metadata": {},
   "outputs": [],
   "source": []
  },
  {
   "cell_type": "code",
   "execution_count": 17,
   "metadata": {},
   "outputs": [
    {
     "data": {
      "text/html": [
       "<div>\n",
       "<style scoped>\n",
       "    .dataframe tbody tr th:only-of-type {\n",
       "        vertical-align: middle;\n",
       "    }\n",
       "\n",
       "    .dataframe tbody tr th {\n",
       "        vertical-align: top;\n",
       "    }\n",
       "\n",
       "    .dataframe thead th {\n",
       "        text-align: right;\n",
       "    }\n",
       "</style>\n",
       "<table border=\"1\" class=\"dataframe\">\n",
       "  <thead>\n",
       "    <tr style=\"text-align: right;\">\n",
       "      <th></th>\n",
       "      <th>Title</th>\n",
       "      <th>Rating</th>\n",
       "    </tr>\n",
       "  </thead>\n",
       "  <tbody>\n",
       "    <tr>\n",
       "      <th>393</th>\n",
       "      <td>The Dark Knight</td>\n",
       "      <td>9.0</td>\n",
       "    </tr>\n",
       "    <tr>\n",
       "      <th>98</th>\n",
       "      <td>Jurassic Park III</td>\n",
       "      <td>8.9</td>\n",
       "    </tr>\n",
       "    <tr>\n",
       "      <th>287</th>\n",
       "      <td>The Lord of the Rings: The Return of the King</td>\n",
       "      <td>8.9</td>\n",
       "    </tr>\n",
       "    <tr>\n",
       "      <th>99</th>\n",
       "      <td>Pulp Fiction</td>\n",
       "      <td>8.9</td>\n",
       "    </tr>\n",
       "    <tr>\n",
       "      <th>83</th>\n",
       "      <td>Schindler's List</td>\n",
       "      <td>8.9</td>\n",
       "    </tr>\n",
       "  </tbody>\n",
       "</table>\n",
       "</div>"
      ],
      "text/plain": [
       "                                             Title  Rating\n",
       "393                                The Dark Knight     9.0\n",
       "98                               Jurassic Park III     8.9\n",
       "287  The Lord of the Rings: The Return of the King     8.9\n",
       "99                                    Pulp Fiction     8.9\n",
       "83                                Schindler's List     8.9"
      ]
     },
     "execution_count": 17,
     "metadata": {},
     "output_type": "execute_result"
    }
   ],
   "source": [
    "#top 5 movie names \n",
    "x=df_copy.sort_values(\"Rating\", ascending=False). head(5)\n",
    "x.loc[:, (\"Title\", \"Rating\")]"
   ]
  },
  {
   "cell_type": "code",
   "execution_count": 18,
   "metadata": {},
   "outputs": [
    {
     "data": {
      "text/html": [
       "<div>\n",
       "<style scoped>\n",
       "    .dataframe tbody tr th:only-of-type {\n",
       "        vertical-align: middle;\n",
       "    }\n",
       "\n",
       "    .dataframe tbody tr th {\n",
       "        vertical-align: top;\n",
       "    }\n",
       "\n",
       "    .dataframe thead th {\n",
       "        text-align: right;\n",
       "    }\n",
       "</style>\n",
       "<table border=\"1\" class=\"dataframe\">\n",
       "  <thead>\n",
       "    <tr style=\"text-align: right;\">\n",
       "      <th></th>\n",
       "      <th>MovieID</th>\n",
       "      <th>Title</th>\n",
       "      <th>MPAA Rating</th>\n",
       "      <th>Budget</th>\n",
       "      <th>Gross</th>\n",
       "      <th>Release Date</th>\n",
       "      <th>Genre</th>\n",
       "      <th>Runtime</th>\n",
       "      <th>Rating</th>\n",
       "      <th>Rating Count</th>\n",
       "      <th>Summary</th>\n",
       "    </tr>\n",
       "  </thead>\n",
       "  <tbody>\n",
       "    <tr>\n",
       "      <th>594</th>\n",
       "      <td>595</td>\n",
       "      <td>Avengers: Infinity War</td>\n",
       "      <td>PG-13</td>\n",
       "      <td>400000000.0</td>\n",
       "      <td>2.048000e+09</td>\n",
       "      <td>2018-04-23</td>\n",
       "      <td>Action</td>\n",
       "      <td>149.0</td>\n",
       "      <td>NaN</td>\n",
       "      <td>NaN</td>\n",
       "      <td>NaN</td>\n",
       "    </tr>\n",
       "    <tr>\n",
       "      <th>454</th>\n",
       "      <td>455</td>\n",
       "      <td>Pirates of the Caribbean: On Stranger Tides</td>\n",
       "      <td>PG-13</td>\n",
       "      <td>380000000.0</td>\n",
       "      <td>1.045714e+09</td>\n",
       "      <td>2011-05-14</td>\n",
       "      <td>Action</td>\n",
       "      <td>136.0</td>\n",
       "      <td>6.6</td>\n",
       "      <td>455211.0</td>\n",
       "      <td>Jack Sparrow and Barbossa embark on a quest to...</td>\n",
       "    </tr>\n",
       "    <tr>\n",
       "      <th>614</th>\n",
       "      <td>615</td>\n",
       "      <td>Avengers: Endgame</td>\n",
       "      <td>PG-13</td>\n",
       "      <td>356000000.0</td>\n",
       "      <td>2.796000e+09</td>\n",
       "      <td>2019-04-22</td>\n",
       "      <td>Action</td>\n",
       "      <td>181.0</td>\n",
       "      <td>NaN</td>\n",
       "      <td>NaN</td>\n",
       "      <td>NaN</td>\n",
       "    </tr>\n",
       "    <tr>\n",
       "      <th>574</th>\n",
       "      <td>575</td>\n",
       "      <td>Star Wars: The Last Jedi</td>\n",
       "      <td>PG-13</td>\n",
       "      <td>317000000.0</td>\n",
       "      <td>1.333000e+09</td>\n",
       "      <td>2019-12-09</td>\n",
       "      <td>Science Fiction</td>\n",
       "      <td>152.0</td>\n",
       "      <td>NaN</td>\n",
       "      <td>NaN</td>\n",
       "      <td>NaN</td>\n",
       "    </tr>\n",
       "    <tr>\n",
       "      <th>375</th>\n",
       "      <td>376</td>\n",
       "      <td>Pirates of the Caribbean: At World's End</td>\n",
       "      <td>PG-13</td>\n",
       "      <td>300000000.0</td>\n",
       "      <td>9.610000e+08</td>\n",
       "      <td>2007-05-19</td>\n",
       "      <td>Adventure</td>\n",
       "      <td>169.0</td>\n",
       "      <td>7.1</td>\n",
       "      <td>565402.0</td>\n",
       "      <td>Captain Barbossa, Will Turner and Elizabeth Sw...</td>\n",
       "    </tr>\n",
       "  </tbody>\n",
       "</table>\n",
       "</div>"
      ],
      "text/plain": [
       "     MovieID                                        Title MPAA Rating  \\\n",
       "594      595                       Avengers: Infinity War       PG-13   \n",
       "454      455  Pirates of the Caribbean: On Stranger Tides       PG-13   \n",
       "614      615                            Avengers: Endgame       PG-13   \n",
       "574      575                     Star Wars: The Last Jedi       PG-13   \n",
       "375      376     Pirates of the Caribbean: At World's End       PG-13   \n",
       "\n",
       "          Budget         Gross Release Date            Genre  Runtime  Rating  \\\n",
       "594  400000000.0  2.048000e+09   2018-04-23           Action    149.0     NaN   \n",
       "454  380000000.0  1.045714e+09   2011-05-14           Action    136.0     6.6   \n",
       "614  356000000.0  2.796000e+09   2019-04-22           Action    181.0     NaN   \n",
       "574  317000000.0  1.333000e+09   2019-12-09  Science Fiction    152.0     NaN   \n",
       "375  300000000.0  9.610000e+08   2007-05-19        Adventure    169.0     7.1   \n",
       "\n",
       "     Rating Count                                            Summary  \n",
       "594           NaN                                                NaN  \n",
       "454      455211.0  Jack Sparrow and Barbossa embark on a quest to...  \n",
       "614           NaN                                                NaN  \n",
       "574           NaN                                                NaN  \n",
       "375      565402.0  Captain Barbossa, Will Turner and Elizabeth Sw...  "
      ]
     },
     "execution_count": 18,
     "metadata": {},
     "output_type": "execute_result"
    }
   ],
   "source": [
    "df_copy.sort_values(\"Budget\", ascending=False).head(5)"
   ]
  },
  {
   "cell_type": "code",
   "execution_count": null,
   "metadata": {},
   "outputs": [],
   "source": []
  },
  {
   "cell_type": "code",
   "execution_count": null,
   "metadata": {},
   "outputs": [],
   "source": []
  },
  {
   "cell_type": "code",
   "execution_count": null,
   "metadata": {},
   "outputs": [],
   "source": []
  }
 ],
 "metadata": {
  "kernelspec": {
   "display_name": "base",
   "language": "python",
   "name": "python3"
  },
  "language_info": {
   "codemirror_mode": {
    "name": "ipython",
    "version": 3
   },
   "file_extension": ".py",
   "mimetype": "text/x-python",
   "name": "python",
   "nbconvert_exporter": "python",
   "pygments_lexer": "ipython3",
   "version": "3.10.9"
  },
  "orig_nbformat": 4
 },
 "nbformat": 4,
 "nbformat_minor": 2
}
