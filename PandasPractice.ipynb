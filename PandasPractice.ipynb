{
 "cells": [
  {
   "cell_type": "code",
   "execution_count": 1,
   "metadata": {},
   "outputs": [],
   "source": [
    "import pandas as pd"
   ]
  },
  {
   "cell_type": "code",
   "execution_count": 25,
   "metadata": {},
   "outputs": [
    {
     "data": {
      "text/plain": [
       "pandas.core.series.Series"
      ]
     },
     "execution_count": 25,
     "metadata": {},
     "output_type": "execute_result"
    }
   ],
   "source": [
    "# first make it a list and assign it to a variable/aka object\n",
    "cat1 = ['Grumpy Cat', 'Cat', 2012]\n",
    "\n",
    "#then convert it to a series \n",
    "ser = pd.Series(cat1)\n",
    "\n",
    "#now add the labels\n",
    "cat_index = ['name', 'species', 'YOB']\n",
    "\n",
    "#now we assign our cat_index (which is currently a list) to the series we have already created \n",
    "#it has an automatic index. So we are assigning \n",
    "ser.index = cat_index\n",
    "\n",
    "type(ser)"
   ]
  },
  {
   "cell_type": "code",
   "execution_count": 7,
   "metadata": {},
   "outputs": [
    {
     "data": {
      "text/plain": [
       "name       Grumpy Cat\n",
       "species           Cat\n",
       "YOB              2012\n",
       "dtype: object"
      ]
     },
     "metadata": {},
     "output_type": "display_data"
    }
   ],
   "source": [
    "display(ser)"
   ]
  },
  {
   "cell_type": "code",
   "execution_count": 26,
   "metadata": {},
   "outputs": [
    {
     "name": "stdout",
     "output_type": "stream",
     "text": [
      "name       Grumpy Cat\n",
      "species           Cat\n",
      "YOB              2012\n",
      "dtype: object\n"
     ]
    }
   ],
   "source": [
    "print(ser)"
   ]
  },
  {
   "attachments": {},
   "cell_type": "markdown",
   "metadata": {},
   "source": [
    "Panda Data Frame"
   ]
  },
  {
   "cell_type": "code",
   "execution_count": 12,
   "metadata": {},
   "outputs": [
    {
     "data": {
      "text/html": [
       "<div>\n",
       "<style scoped>\n",
       "    .dataframe tbody tr th:only-of-type {\n",
       "        vertical-align: middle;\n",
       "    }\n",
       "\n",
       "    .dataframe tbody tr th {\n",
       "        vertical-align: top;\n",
       "    }\n",
       "\n",
       "    .dataframe thead th {\n",
       "        text-align: right;\n",
       "    }\n",
       "</style>\n",
       "<table border=\"1\" class=\"dataframe\">\n",
       "  <thead>\n",
       "    <tr style=\"text-align: right;\">\n",
       "      <th></th>\n",
       "      <th>name</th>\n",
       "      <th>species</th>\n",
       "      <th>YOB</th>\n",
       "    </tr>\n",
       "  </thead>\n",
       "  <tbody>\n",
       "    <tr>\n",
       "      <th>0</th>\n",
       "      <td>Grumpy Cat</td>\n",
       "      <td>cat</td>\n",
       "      <td>2004</td>\n",
       "    </tr>\n",
       "    <tr>\n",
       "      <th>1</th>\n",
       "      <td>Garfi the Angry Cat</td>\n",
       "      <td>cat</td>\n",
       "      <td>2012</td>\n",
       "    </tr>\n",
       "    <tr>\n",
       "      <th>2</th>\n",
       "      <td>Colonel Meow</td>\n",
       "      <td>cat</td>\n",
       "      <td>2011</td>\n",
       "    </tr>\n",
       "  </tbody>\n",
       "</table>\n",
       "</div>"
      ],
      "text/plain": [
       "                  name species   YOB\n",
       "0           Grumpy Cat     cat  2004\n",
       "1  Garfi the Angry Cat     cat  2012\n",
       "2         Colonel Meow     cat  2011"
      ]
     },
     "metadata": {},
     "output_type": "display_data"
    }
   ],
   "source": [
    "#create a DataFrame from a list \n",
    "name = ['Grumpy Cat', 'Garfi the Angry Cat', 'Colonel Meow']\n",
    "species = ['cat', 'cat', 'cat']\n",
    "YOB = [2004, 2012, 2011]\n",
    "\n",
    "#now combine the lists into a dictionary \n",
    "cat_dict = {'name': name, \n",
    "            'species': species, \n",
    "            'YOB': YOB}\n",
    "listofcats = pd.DataFrame(cat_dict)\n",
    "display(listofcats)\n"
   ]
  },
  {
   "cell_type": "code",
   "execution_count": 13,
   "metadata": {},
   "outputs": [
    {
     "data": {
      "text/html": [
       "<div>\n",
       "<style scoped>\n",
       "    .dataframe tbody tr th:only-of-type {\n",
       "        vertical-align: middle;\n",
       "    }\n",
       "\n",
       "    .dataframe tbody tr th {\n",
       "        vertical-align: top;\n",
       "    }\n",
       "\n",
       "    .dataframe thead th {\n",
       "        text-align: right;\n",
       "    }\n",
       "</style>\n",
       "<table border=\"1\" class=\"dataframe\">\n",
       "  <thead>\n",
       "    <tr style=\"text-align: right;\">\n",
       "      <th></th>\n",
       "      <th>name</th>\n",
       "      <th>species</th>\n",
       "      <th>YOB</th>\n",
       "    </tr>\n",
       "  </thead>\n",
       "  <tbody>\n",
       "    <tr>\n",
       "      <th>0</th>\n",
       "      <td>Grumpy Cat</td>\n",
       "      <td>cat</td>\n",
       "      <td>2004</td>\n",
       "    </tr>\n",
       "    <tr>\n",
       "      <th>1</th>\n",
       "      <td>Garfi the Angry Cat</td>\n",
       "      <td>cat</td>\n",
       "      <td>2012</td>\n",
       "    </tr>\n",
       "    <tr>\n",
       "      <th>2</th>\n",
       "      <td>Colonel Meow</td>\n",
       "      <td>cat</td>\n",
       "      <td>2011</td>\n",
       "    </tr>\n",
       "  </tbody>\n",
       "</table>\n",
       "</div>"
      ],
      "text/plain": [
       "                  name species   YOB\n",
       "0           Grumpy Cat     cat  2004\n",
       "1  Garfi the Angry Cat     cat  2012\n",
       "2         Colonel Meow     cat  2011"
      ]
     },
     "execution_count": 13,
     "metadata": {},
     "output_type": "execute_result"
    }
   ],
   "source": [
    "listofcats"
   ]
  },
  {
   "cell_type": "code",
   "execution_count": 17,
   "metadata": {},
   "outputs": [
    {
     "data": {
      "text/plain": [
       "0             Grumpy Cat\n",
       "1    Garfi the Angry Cat\n",
       "2           Colonel Meow\n",
       "Name: name, dtype: object"
      ]
     },
     "execution_count": 17,
     "metadata": {},
     "output_type": "execute_result"
    }
   ],
   "source": [
    "#show a single column \n",
    "listofcats[\"name\"]"
   ]
  },
  {
   "cell_type": "code",
   "execution_count": 19,
   "metadata": {},
   "outputs": [
    {
     "data": {
      "text/html": [
       "<div>\n",
       "<style scoped>\n",
       "    .dataframe tbody tr th:only-of-type {\n",
       "        vertical-align: middle;\n",
       "    }\n",
       "\n",
       "    .dataframe tbody tr th {\n",
       "        vertical-align: top;\n",
       "    }\n",
       "\n",
       "    .dataframe thead th {\n",
       "        text-align: right;\n",
       "    }\n",
       "</style>\n",
       "<table border=\"1\" class=\"dataframe\">\n",
       "  <thead>\n",
       "    <tr style=\"text-align: right;\">\n",
       "      <th></th>\n",
       "      <th>name</th>\n",
       "      <th>YOB</th>\n",
       "    </tr>\n",
       "  </thead>\n",
       "  <tbody>\n",
       "    <tr>\n",
       "      <th>0</th>\n",
       "      <td>Grumpy Cat</td>\n",
       "      <td>2004</td>\n",
       "    </tr>\n",
       "    <tr>\n",
       "      <th>1</th>\n",
       "      <td>Garfi the Angry Cat</td>\n",
       "      <td>2012</td>\n",
       "    </tr>\n",
       "    <tr>\n",
       "      <th>2</th>\n",
       "      <td>Colonel Meow</td>\n",
       "      <td>2011</td>\n",
       "    </tr>\n",
       "  </tbody>\n",
       "</table>\n",
       "</div>"
      ],
      "text/plain": [
       "                  name   YOB\n",
       "0           Grumpy Cat  2004\n",
       "1  Garfi the Angry Cat  2012\n",
       "2         Colonel Meow  2011"
      ]
     },
     "execution_count": 19,
     "metadata": {},
     "output_type": "execute_result"
    }
   ],
   "source": [
    "#show several columns \n",
    "listofcats[[\"name\", \"YOB\"]]"
   ]
  },
  {
   "cell_type": "code",
   "execution_count": 28,
   "metadata": {},
   "outputs": [
    {
     "data": {
      "text/html": [
       "<style type=\"text/css\">\n",
       "</style>\n",
       "<table id=\"T_bc6eb\">\n",
       "  <thead>\n",
       "    <tr>\n",
       "      <th id=\"T_bc6eb_level0_col0\" class=\"col_heading level0 col0\" >name</th>\n",
       "      <th id=\"T_bc6eb_level0_col1\" class=\"col_heading level0 col1\" >species</th>\n",
       "      <th id=\"T_bc6eb_level0_col2\" class=\"col_heading level0 col2\" >YOB</th>\n",
       "    </tr>\n",
       "  </thead>\n",
       "  <tbody>\n",
       "    <tr>\n",
       "      <td id=\"T_bc6eb_row0_col0\" class=\"data row0 col0\" >Grumpy Cat</td>\n",
       "      <td id=\"T_bc6eb_row0_col1\" class=\"data row0 col1\" >cat</td>\n",
       "      <td id=\"T_bc6eb_row0_col2\" class=\"data row0 col2\" >2004</td>\n",
       "    </tr>\n",
       "    <tr>\n",
       "      <td id=\"T_bc6eb_row1_col0\" class=\"data row1 col0\" >Garfi the Angry Cat</td>\n",
       "      <td id=\"T_bc6eb_row1_col1\" class=\"data row1 col1\" >cat</td>\n",
       "      <td id=\"T_bc6eb_row1_col2\" class=\"data row1 col2\" >2012</td>\n",
       "    </tr>\n",
       "    <tr>\n",
       "      <td id=\"T_bc6eb_row2_col0\" class=\"data row2 col0\" >Colonel Meow</td>\n",
       "      <td id=\"T_bc6eb_row2_col1\" class=\"data row2 col1\" >cat</td>\n",
       "      <td id=\"T_bc6eb_row2_col2\" class=\"data row2 col2\" >2011</td>\n",
       "    </tr>\n",
       "  </tbody>\n",
       "</table>\n"
      ],
      "text/plain": [
       "<pandas.io.formats.style.Styler at 0x2468da6bca0>"
      ]
     },
     "metadata": {},
     "output_type": "display_data"
    }
   ],
   "source": [
    "#hide the index. its still there, its just hidden\n",
    "#listofcats_1 = listofcats.style.hide(axis='index')\n",
    "#display(listofcats_1)"
   ]
  },
  {
   "cell_type": "code",
   "execution_count": 32,
   "metadata": {},
   "outputs": [
    {
     "ename": "AttributeError",
     "evalue": "'Template' object has no attribute 'hide'",
     "output_type": "error",
     "traceback": [
      "\u001b[1;31m---------------------------------------------------------------------------\u001b[0m",
      "\u001b[1;31mAttributeError\u001b[0m                            Traceback (most recent call last)",
      "Cell \u001b[1;32mIn[32], line 2\u001b[0m\n\u001b[0;32m      1\u001b[0m \u001b[39m#hide a column \u001b[39;00m\n\u001b[1;32m----> 2\u001b[0m listofcats_1\u001b[39m.\u001b[39;49mtemplate_html_style\u001b[39m.\u001b[39;49mhide(axis \u001b[39m=\u001b[39m \u001b[39m1\u001b[39m, subset \u001b[39m=\u001b[39m [\u001b[39m\"\u001b[39m\u001b[39mspecies\u001b[39m\u001b[39m\"\u001b[39m])\n",
      "\u001b[1;31mAttributeError\u001b[0m: 'Template' object has no attribute 'hide'"
     ]
    }
   ],
   "source": [
    "#once i hide an object in a dataframe in pandas the variable type is changed from variable(DF) to variable(styler) and wouldnt let me hide more in a new code line.\n",
    "#listofcats_1.style.hide()"
   ]
  },
  {
   "cell_type": "code",
   "execution_count": 38,
   "metadata": {},
   "outputs": [
    {
     "ename": "SyntaxError",
     "evalue": "invalid syntax. Maybe you meant '==' or ':=' instead of '='? (2058846570.py, line 1)",
     "output_type": "error",
     "traceback": [
      "\u001b[1;36m  Cell \u001b[1;32mIn[38], line 1\u001b[1;36m\u001b[0m\n\u001b[1;33m    listofcats.style.hide([axis='index'], [axis=1, subset=(\"name\")])\u001b[0m\n\u001b[1;37m                           ^\u001b[0m\n\u001b[1;31mSyntaxError\u001b[0m\u001b[1;31m:\u001b[0m invalid syntax. Maybe you meant '==' or ':=' instead of '='?\n"
     ]
    }
   ],
   "source": [
    "listofcats.style.hide([axis='index'], [axis=1, subset=(\"name\")])"
   ]
  },
  {
   "cell_type": "code",
   "execution_count": null,
   "metadata": {},
   "outputs": [],
   "source": []
  },
  {
   "cell_type": "code",
   "execution_count": null,
   "metadata": {},
   "outputs": [],
   "source": []
  },
  {
   "cell_type": "code",
   "execution_count": null,
   "metadata": {},
   "outputs": [],
   "source": []
  },
  {
   "cell_type": "code",
   "execution_count": null,
   "metadata": {},
   "outputs": [],
   "source": []
  },
  {
   "cell_type": "code",
   "execution_count": null,
   "metadata": {},
   "outputs": [],
   "source": []
  }
 ],
 "metadata": {
  "kernelspec": {
   "display_name": "base",
   "language": "python",
   "name": "python3"
  },
  "language_info": {
   "codemirror_mode": {
    "name": "ipython",
    "version": 3
   },
   "file_extension": ".py",
   "mimetype": "text/x-python",
   "name": "python",
   "nbconvert_exporter": "python",
   "pygments_lexer": "ipython3",
   "version": "3.10.9"
  },
  "orig_nbformat": 4
 },
 "nbformat": 4,
 "nbformat_minor": 2
}
